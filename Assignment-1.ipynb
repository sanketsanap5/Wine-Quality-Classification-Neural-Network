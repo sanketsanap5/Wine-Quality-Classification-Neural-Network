{
 "cells": [
  {
   "cell_type": "markdown",
   "id": "313cc0f9",
   "metadata": {},
   "source": [
    "# Abstract\n",
    "\n",
    "In this notebook, I am solving a classification problem of Wine Quality\n",
    "\n",
    "To achieve this I am implementing a single neuron neural network with stochastic gradient descent for \n",
    "optimization\n",
    "\n",
    "Along with that multiple activation functions will be used such as Sigmoid, ReLU during traing of the model\n",
    "\n",
    "Loss and accuracy matrics for training and testing of the model will be calculated and visualized using graphs\n"
   ]
  },
  {
   "cell_type": "code",
   "execution_count": 1,
   "id": "7ed26ebe",
   "metadata": {},
   "outputs": [],
   "source": [
    "import pandas as pd\n",
    "import numpy as np\n",
    "import matplotlib.pyplot as plt\n",
    "import seaborn as sns\n",
    "import math\n",
    "from scipy import stats\n",
    "#For Confusion Matrix\n",
    "from sklearn.metrics import confusion_matrix"
   ]
  },
  {
   "cell_type": "code",
   "execution_count": 3,
   "id": "3e9f2b92",
   "metadata": {},
   "outputs": [
    {
     "data": {
      "text/html": [
       "<div>\n",
       "<style scoped>\n",
       "    .dataframe tbody tr th:only-of-type {\n",
       "        vertical-align: middle;\n",
       "    }\n",
       "\n",
       "    .dataframe tbody tr th {\n",
       "        vertical-align: top;\n",
       "    }\n",
       "\n",
       "    .dataframe thead th {\n",
       "        text-align: right;\n",
       "    }\n",
       "</style>\n",
       "<table border=\"1\" class=\"dataframe\">\n",
       "  <thead>\n",
       "    <tr style=\"text-align: right;\">\n",
       "      <th></th>\n",
       "      <th>fixed acidity</th>\n",
       "      <th>volatile acidity</th>\n",
       "      <th>citric acid</th>\n",
       "      <th>residual sugar</th>\n",
       "      <th>chlorides</th>\n",
       "      <th>free sulfur dioxide</th>\n",
       "      <th>total sulfur dioxide</th>\n",
       "      <th>density</th>\n",
       "      <th>pH</th>\n",
       "      <th>sulphates</th>\n",
       "      <th>alcohol</th>\n",
       "      <th>quality</th>\n",
       "    </tr>\n",
       "  </thead>\n",
       "  <tbody>\n",
       "    <tr>\n",
       "      <th>311</th>\n",
       "      <td>7.9</td>\n",
       "      <td>0.530</td>\n",
       "      <td>0.24</td>\n",
       "      <td>2.0</td>\n",
       "      <td>0.072</td>\n",
       "      <td>15.0</td>\n",
       "      <td>105.0</td>\n",
       "      <td>0.99600</td>\n",
       "      <td>3.27</td>\n",
       "      <td>0.54</td>\n",
       "      <td>9.4</td>\n",
       "      <td>1</td>\n",
       "    </tr>\n",
       "    <tr>\n",
       "      <th>1537</th>\n",
       "      <td>5.4</td>\n",
       "      <td>0.580</td>\n",
       "      <td>0.08</td>\n",
       "      <td>1.9</td>\n",
       "      <td>0.059</td>\n",
       "      <td>20.0</td>\n",
       "      <td>31.0</td>\n",
       "      <td>0.99484</td>\n",
       "      <td>3.50</td>\n",
       "      <td>0.64</td>\n",
       "      <td>10.2</td>\n",
       "      <td>1</td>\n",
       "    </tr>\n",
       "    <tr>\n",
       "      <th>724</th>\n",
       "      <td>7.5</td>\n",
       "      <td>1.115</td>\n",
       "      <td>0.10</td>\n",
       "      <td>3.1</td>\n",
       "      <td>0.086</td>\n",
       "      <td>5.0</td>\n",
       "      <td>12.0</td>\n",
       "      <td>0.99580</td>\n",
       "      <td>3.54</td>\n",
       "      <td>0.60</td>\n",
       "      <td>11.2</td>\n",
       "      <td>0</td>\n",
       "    </tr>\n",
       "    <tr>\n",
       "      <th>829</th>\n",
       "      <td>5.9</td>\n",
       "      <td>0.610</td>\n",
       "      <td>0.08</td>\n",
       "      <td>2.1</td>\n",
       "      <td>0.071</td>\n",
       "      <td>16.0</td>\n",
       "      <td>24.0</td>\n",
       "      <td>0.99376</td>\n",
       "      <td>3.56</td>\n",
       "      <td>0.77</td>\n",
       "      <td>11.1</td>\n",
       "      <td>1</td>\n",
       "    </tr>\n",
       "    <tr>\n",
       "      <th>233</th>\n",
       "      <td>6.9</td>\n",
       "      <td>0.520</td>\n",
       "      <td>0.25</td>\n",
       "      <td>2.6</td>\n",
       "      <td>0.081</td>\n",
       "      <td>10.0</td>\n",
       "      <td>37.0</td>\n",
       "      <td>0.99685</td>\n",
       "      <td>3.46</td>\n",
       "      <td>0.50</td>\n",
       "      <td>11.0</td>\n",
       "      <td>0</td>\n",
       "    </tr>\n",
       "  </tbody>\n",
       "</table>\n",
       "</div>"
      ],
      "text/plain": [
       "      fixed acidity  volatile acidity  citric acid  residual sugar  chlorides  \\\n",
       "311             7.9             0.530         0.24             2.0      0.072   \n",
       "1537            5.4             0.580         0.08             1.9      0.059   \n",
       "724             7.5             1.115         0.10             3.1      0.086   \n",
       "829             5.9             0.610         0.08             2.1      0.071   \n",
       "233             6.9             0.520         0.25             2.6      0.081   \n",
       "\n",
       "      free sulfur dioxide  total sulfur dioxide  density    pH  sulphates  \\\n",
       "311                  15.0                 105.0  0.99600  3.27       0.54   \n",
       "1537                 20.0                  31.0  0.99484  3.50       0.64   \n",
       "724                   5.0                  12.0  0.99580  3.54       0.60   \n",
       "829                  16.0                  24.0  0.99376  3.56       0.77   \n",
       "233                  10.0                  37.0  0.99685  3.46       0.50   \n",
       "\n",
       "      alcohol  quality  \n",
       "311       9.4        1  \n",
       "1537     10.2        1  \n",
       "724      11.2        0  \n",
       "829      11.1        1  \n",
       "233      11.0        0  "
      ]
     },
     "execution_count": 3,
     "metadata": {},
     "output_type": "execute_result"
    }
   ],
   "source": [
    "# Reading data in pd dataframe\n",
    "\n",
    "pdf = pd.read_csv('./wine.csv')\n",
    "pdf.dropna(inplace=True)\n",
    "pdf.quality = pdf.quality.astype('category').cat.codes\n",
    "pdf.sample(5)"
   ]
  },
  {
   "cell_type": "code",
   "execution_count": 4,
   "id": "3ab777c7",
   "metadata": {},
   "outputs": [
    {
     "data": {
      "text/plain": [
       "fixed acidity           float64\n",
       "volatile acidity        float64\n",
       "citric acid             float64\n",
       "residual sugar          float64\n",
       "chlorides               float64\n",
       "free sulfur dioxide     float64\n",
       "total sulfur dioxide    float64\n",
       "density                 float64\n",
       "pH                      float64\n",
       "sulphates               float64\n",
       "alcohol                 float64\n",
       "quality                    int8\n",
       "dtype: object"
      ]
     },
     "execution_count": 4,
     "metadata": {},
     "output_type": "execute_result"
    }
   ],
   "source": [
    "pdf.dtypes"
   ]
  },
  {
   "cell_type": "markdown",
   "id": "33ad5e0c",
   "metadata": {},
   "source": [
    "### Removing Outliers\n",
    "\n",
    "Removing outliers whose z-score is greater than 3 i.e. 3 std from mean"
   ]
  },
  {
   "cell_type": "code",
   "execution_count": 5,
   "id": "fa7a8dc7",
   "metadata": {},
   "outputs": [
    {
     "data": {
      "text/html": [
       "<div>\n",
       "<style scoped>\n",
       "    .dataframe tbody tr th:only-of-type {\n",
       "        vertical-align: middle;\n",
       "    }\n",
       "\n",
       "    .dataframe tbody tr th {\n",
       "        vertical-align: top;\n",
       "    }\n",
       "\n",
       "    .dataframe thead th {\n",
       "        text-align: right;\n",
       "    }\n",
       "</style>\n",
       "<table border=\"1\" class=\"dataframe\">\n",
       "  <thead>\n",
       "    <tr style=\"text-align: right;\">\n",
       "      <th></th>\n",
       "      <th>fixed acidity</th>\n",
       "      <th>volatile acidity</th>\n",
       "      <th>citric acid</th>\n",
       "      <th>residual sugar</th>\n",
       "      <th>chlorides</th>\n",
       "      <th>free sulfur dioxide</th>\n",
       "      <th>total sulfur dioxide</th>\n",
       "      <th>density</th>\n",
       "      <th>pH</th>\n",
       "      <th>sulphates</th>\n",
       "      <th>alcohol</th>\n",
       "      <th>quality</th>\n",
       "    </tr>\n",
       "  </thead>\n",
       "  <tbody>\n",
       "    <tr>\n",
       "      <th>count</th>\n",
       "      <td>1458.000000</td>\n",
       "      <td>1458.000000</td>\n",
       "      <td>1458.000000</td>\n",
       "      <td>1458.000000</td>\n",
       "      <td>1458.000000</td>\n",
       "      <td>1458.000000</td>\n",
       "      <td>1458.000000</td>\n",
       "      <td>1458.000000</td>\n",
       "      <td>1458.000000</td>\n",
       "      <td>1458.000000</td>\n",
       "      <td>1458.000000</td>\n",
       "      <td>1458.000000</td>\n",
       "    </tr>\n",
       "    <tr>\n",
       "      <th>mean</th>\n",
       "      <td>8.312551</td>\n",
       "      <td>0.524050</td>\n",
       "      <td>0.265281</td>\n",
       "      <td>2.388717</td>\n",
       "      <td>0.081531</td>\n",
       "      <td>15.089849</td>\n",
       "      <td>43.660494</td>\n",
       "      <td>0.996718</td>\n",
       "      <td>3.316152</td>\n",
       "      <td>0.642414</td>\n",
       "      <td>10.417798</td>\n",
       "      <td>0.539781</td>\n",
       "    </tr>\n",
       "    <tr>\n",
       "      <th>std</th>\n",
       "      <td>1.647635</td>\n",
       "      <td>0.169451</td>\n",
       "      <td>0.191271</td>\n",
       "      <td>0.865307</td>\n",
       "      <td>0.021218</td>\n",
       "      <td>9.317669</td>\n",
       "      <td>29.414615</td>\n",
       "      <td>0.001718</td>\n",
       "      <td>0.141052</td>\n",
       "      <td>0.129753</td>\n",
       "      <td>1.021649</td>\n",
       "      <td>0.498586</td>\n",
       "    </tr>\n",
       "    <tr>\n",
       "      <th>min</th>\n",
       "      <td>5.000000</td>\n",
       "      <td>0.120000</td>\n",
       "      <td>0.000000</td>\n",
       "      <td>1.200000</td>\n",
       "      <td>0.038000</td>\n",
       "      <td>1.000000</td>\n",
       "      <td>6.000000</td>\n",
       "      <td>0.991500</td>\n",
       "      <td>2.880000</td>\n",
       "      <td>0.330000</td>\n",
       "      <td>8.400000</td>\n",
       "      <td>0.000000</td>\n",
       "    </tr>\n",
       "    <tr>\n",
       "      <th>25%</th>\n",
       "      <td>7.100000</td>\n",
       "      <td>0.390000</td>\n",
       "      <td>0.090000</td>\n",
       "      <td>1.900000</td>\n",
       "      <td>0.070000</td>\n",
       "      <td>7.000000</td>\n",
       "      <td>21.000000</td>\n",
       "      <td>0.995600</td>\n",
       "      <td>3.220000</td>\n",
       "      <td>0.550000</td>\n",
       "      <td>9.500000</td>\n",
       "      <td>0.000000</td>\n",
       "    </tr>\n",
       "    <tr>\n",
       "      <th>50%</th>\n",
       "      <td>7.900000</td>\n",
       "      <td>0.520000</td>\n",
       "      <td>0.250000</td>\n",
       "      <td>2.200000</td>\n",
       "      <td>0.079000</td>\n",
       "      <td>13.000000</td>\n",
       "      <td>36.000000</td>\n",
       "      <td>0.996700</td>\n",
       "      <td>3.315000</td>\n",
       "      <td>0.620000</td>\n",
       "      <td>10.200000</td>\n",
       "      <td>1.000000</td>\n",
       "    </tr>\n",
       "    <tr>\n",
       "      <th>75%</th>\n",
       "      <td>9.200000</td>\n",
       "      <td>0.635000</td>\n",
       "      <td>0.420000</td>\n",
       "      <td>2.600000</td>\n",
       "      <td>0.089000</td>\n",
       "      <td>21.000000</td>\n",
       "      <td>58.000000</td>\n",
       "      <td>0.997800</td>\n",
       "      <td>3.400000</td>\n",
       "      <td>0.720000</td>\n",
       "      <td>11.100000</td>\n",
       "      <td>1.000000</td>\n",
       "    </tr>\n",
       "    <tr>\n",
       "      <th>max</th>\n",
       "      <td>13.500000</td>\n",
       "      <td>1.040000</td>\n",
       "      <td>0.790000</td>\n",
       "      <td>6.700000</td>\n",
       "      <td>0.226000</td>\n",
       "      <td>47.000000</td>\n",
       "      <td>145.000000</td>\n",
       "      <td>1.002200</td>\n",
       "      <td>3.750000</td>\n",
       "      <td>1.160000</td>\n",
       "      <td>13.600000</td>\n",
       "      <td>1.000000</td>\n",
       "    </tr>\n",
       "  </tbody>\n",
       "</table>\n",
       "</div>"
      ],
      "text/plain": [
       "       fixed acidity  volatile acidity  citric acid  residual sugar  \\\n",
       "count    1458.000000       1458.000000  1458.000000     1458.000000   \n",
       "mean        8.312551          0.524050     0.265281        2.388717   \n",
       "std         1.647635          0.169451     0.191271        0.865307   \n",
       "min         5.000000          0.120000     0.000000        1.200000   \n",
       "25%         7.100000          0.390000     0.090000        1.900000   \n",
       "50%         7.900000          0.520000     0.250000        2.200000   \n",
       "75%         9.200000          0.635000     0.420000        2.600000   \n",
       "max        13.500000          1.040000     0.790000        6.700000   \n",
       "\n",
       "         chlorides  free sulfur dioxide  total sulfur dioxide      density  \\\n",
       "count  1458.000000          1458.000000           1458.000000  1458.000000   \n",
       "mean      0.081531            15.089849             43.660494     0.996718   \n",
       "std       0.021218             9.317669             29.414615     0.001718   \n",
       "min       0.038000             1.000000              6.000000     0.991500   \n",
       "25%       0.070000             7.000000             21.000000     0.995600   \n",
       "50%       0.079000            13.000000             36.000000     0.996700   \n",
       "75%       0.089000            21.000000             58.000000     0.997800   \n",
       "max       0.226000            47.000000            145.000000     1.002200   \n",
       "\n",
       "                pH    sulphates      alcohol      quality  \n",
       "count  1458.000000  1458.000000  1458.000000  1458.000000  \n",
       "mean      3.316152     0.642414    10.417798     0.539781  \n",
       "std       0.141052     0.129753     1.021649     0.498586  \n",
       "min       2.880000     0.330000     8.400000     0.000000  \n",
       "25%       3.220000     0.550000     9.500000     0.000000  \n",
       "50%       3.315000     0.620000    10.200000     1.000000  \n",
       "75%       3.400000     0.720000    11.100000     1.000000  \n",
       "max       3.750000     1.160000    13.600000     1.000000  "
      ]
     },
     "execution_count": 5,
     "metadata": {},
     "output_type": "execute_result"
    }
   ],
   "source": [
    "pdf = pdf[(np.abs(stats.zscore(pdf)) < 3).all(axis=1)]\n",
    "pdf.describe()"
   ]
  },
  {
   "cell_type": "code",
   "execution_count": 6,
   "id": "29bff651",
   "metadata": {},
   "outputs": [
    {
     "data": {
      "text/plain": [
       "(1458, 12)"
      ]
     },
     "execution_count": 6,
     "metadata": {},
     "output_type": "execute_result"
    }
   ],
   "source": [
    "pdf.shape"
   ]
  },
  {
   "cell_type": "code",
   "execution_count": 55,
   "id": "3ced9941",
   "metadata": {},
   "outputs": [],
   "source": [
    "# Generate Train test split for valiation\n",
    "\n",
    "def train_test_split(x,y,size):\n",
    "    new_size = int(len(x)*size)\n",
    "    x_train = x[:new_size]\n",
    "    y_train = y[:new_size]\n",
    "    x_test = x[new_size:]\n",
    "    y_test = y[new_size:]\n",
    "    return x_train,y_train,x_test,y_test\n",
    "\n",
    "def prepareData():\n",
    "    x = pdf.copy()\n",
    "    y = pdf.quality\n",
    "    x.drop(columns=['quality'],inplace=True)\n",
    "    x_train, y_train, x_test, y_test = train_test_split(x,y,0.8)\n",
    "    print('Training: ', x_train.shape)\n",
    "    print('Test: ', y_train.shape)\n",
    "    return x_train,y_train,x_test,y_test"
   ]
  },
  {
   "cell_type": "markdown",
   "id": "25629048",
   "metadata": {},
   "source": [
    "## Sigmoid\n",
    "\n",
    "A sigmoid function is a mathematical function having “S”-shaped curve or sigmoid curve.\n",
    "\n",
    "It's derived as F(x) = 1/(1 + e^(-x)) and used as activation function in neural networks"
   ]
  },
  {
   "cell_type": "code",
   "execution_count": 56,
   "id": "5c230cea",
   "metadata": {},
   "outputs": [],
   "source": [
    "#Sigmoid Activation Functions\n",
    "def sigmoid(val):\n",
    "    return 1 / (1 + math.exp(-val))"
   ]
  },
  {
   "cell_type": "markdown",
   "id": "63bcbffa",
   "metadata": {},
   "source": [
    "## Neural Network with Sigmoid Activation Function"
   ]
  },
  {
   "cell_type": "code",
   "execution_count": 77,
   "id": "03b0d501",
   "metadata": {},
   "outputs": [
    {
     "name": "stdout",
     "output_type": "stream",
     "text": [
      "Training:  (1166, 11)\n",
      "Test:  (1166,)\n",
      "J, Train loss:0.125000\n",
      "J, Test loss:0.125000\n",
      "Training accuracy: 45.283019\n",
      "Validation accuracy: 48.972603\n",
      "J, Train loss:0.188639\n",
      "J, Test loss:0.199266\n",
      "Training accuracy: 49.571184\n",
      "Validation accuracy: 46.232877\n",
      "J, Train loss:0.189951\n",
      "J, Test loss:0.207697\n",
      "Training accuracy: 52.658662\n",
      "Validation accuracy: 47.945205\n",
      "J, Train loss:0.131274\n",
      "J, Test loss:0.158252\n",
      "Training accuracy: 64.150943\n",
      "Validation accuracy: 56.849315\n",
      "J, Train loss:0.138247\n",
      "J, Test loss:0.179377\n",
      "Training accuracy: 64.751286\n",
      "Validation accuracy: 54.794521\n",
      "J, Train loss:0.142352\n",
      "J, Test loss:0.183530\n",
      "Training accuracy: 64.065180\n",
      "Validation accuracy: 55.136986\n"
     ]
    }
   ],
   "source": [
    "\n",
    "x_train,y_train,x_test,y_test = prepareData()\n",
    "\n",
    "# initilizing weights as per number of features\n",
    "weight = np.zeros(x_train.shape[1])\n",
    "bias = 0\n",
    "lossVal = 0\n",
    "\n",
    "#Converting df into array\n",
    "x_train = x_train.to_numpy()\n",
    "y_train = np.array(y_train)\n",
    "# y_train = y_train.to_numpy()\n",
    "x_test = x_test.to_numpy()\n",
    "y_test = np.array(y_test)\n",
    "# y_test = y_test.to_numpy()\n",
    "\n",
    "\n",
    "# Calculating accuracy matrics\n",
    "def accuracy(actual, predicted):\n",
    "    correct = 0\n",
    "    for i in range(len(actual)):\n",
    "        if (actual[i]>0.5) == (predicted[i]>0.5):\n",
    "            correct += 1\n",
    "    return correct / float(len(actual)) * 100.0\n",
    "\n",
    "\n",
    "# setting neural network hyperparameters\n",
    "epochs = 60\n",
    "learningRate = 0.10\n",
    "Training_data = {\"trainLoss\":[],\"testLoss\":[],\"trainAccuracy\":[],\"testAccurcay\":[]}\n",
    "\n",
    "#Predicting from train using Sigmoid Activation function\n",
    "#Calculating losss\n",
    "def predict_train():\n",
    "    loss = 0\n",
    "    train_predicted = []\n",
    "    for i in range(x_train.shape[0]):\n",
    "        y_pred_temp = sigmoid(np.dot(x_train[i],weight) + bias)        \n",
    "        loss += (y_train[i] - y_pred_temp)*(y_train[i] - y_pred_temp) #J\n",
    "        train_predicted.append(y_pred_temp)\n",
    "    loss = loss/(2*x_train.shape[0])\n",
    "    return train_predicted, loss\n",
    "\n",
    "#Predicting from test using Sigmoid Activation function\n",
    "#Calculating losss\n",
    "def predict_test():\n",
    "    loss_test = 0\n",
    "    test_predicted = []\n",
    "    for i in range(x_test.shape[0]):\n",
    "        y_pred_temp = sigmoid(np.dot(x_test[i],weight)+bias)        \n",
    "        loss_test += (y_test[i] - y_pred_temp)*(y_test[i] - y_pred_temp) #J\n",
    "        test_predicted.append(y_pred_temp) \n",
    "    return test_predicted, loss_test\n",
    "\n",
    "#Calculating and updating gradient bias and weight\n",
    "def update_bias(bias):\n",
    "    #Accumulating gradient with respect to bias and weights\n",
    "    grad_bias = 0\n",
    "    grad_w = np.zeros(len(weight))\n",
    "    for i in range(x_train.shape[0]):        \n",
    "        grad_bias += (train_predicted[i] - y_train[i])*(train_predicted[i])*(1-train_predicted[i]) #dJ/db\n",
    "        for j in range(len(weight)):\n",
    "            #dJ/dW_j\n",
    "            grad_w[j] += (train_predicted[i] - y_train[i])*(train_predicted[i])*(1-train_predicted[i])*(x_train[i][j])\n",
    "\n",
    "    #Updating bias\n",
    "    bias = bias - grad_bias*learningRate/x_train.shape[0]   \n",
    "    \n",
    "    return grad_w, bias\n",
    "\n",
    "#Updating weights\n",
    "def update_weight():\n",
    "    #Updating weights    \n",
    "    for j in range(len(weight)):\n",
    "        weight[j] = weight[j] - grad_w[j]*learningRate/x_train.shape[0]\n",
    "    \n",
    "    return weight\n",
    "\n",
    "\n",
    "for epoch in range(epochs):\n",
    "\n",
    "    train_predicted, loss = predict_train()\n",
    "    test_predicted, loss_test = predict_test()\n",
    "\n",
    "    loss_test = loss_test/(2*x_test.shape[0])\n",
    "    trainAcc = accuracy(y_train,train_predicted)\n",
    "    testAcc = accuracy(y_test,test_predicted)\n",
    "\n",
    "    Training_data[\"trainLoss\"].append(loss)\n",
    "    Training_data[\"testLoss\"].append(loss_test)\n",
    "    Training_data[\"trainAccuracy\"].append(trainAcc)\n",
    "    Training_data[\"testAccurcay\"].append(testAcc)\n",
    "\n",
    "    #printing matrics every 10 rounds\n",
    "    if epoch%10==0:\n",
    "        print(\"J, Train loss:%f\" %(loss))\n",
    "        print(\"J, Test loss:%f\" %(loss_test))\n",
    "        print(\"Training accuracy: %f\" %(trainAcc))\n",
    "        print(\"Validation accuracy: %f\" %(testAcc))\n",
    "\n",
    "    train_predicted = np.array(train_predicted)\n",
    "\n",
    "    grad_w, bias = update_bias(bias)\n",
    "\n",
    "    weight = update_weight()\n"
   ]
  },
  {
   "cell_type": "markdown",
   "id": "6d1233a9",
   "metadata": {},
   "source": [
    "## Confusion Matrix"
   ]
  },
  {
   "cell_type": "code",
   "execution_count": 78,
   "id": "1e077ca3",
   "metadata": {},
   "outputs": [
    {
     "data": {
      "image/png": "[encoded data removed]",
      "text/plain": [
       "<Figure size 432x432 with 1 Axes>"
      ]
     },
     "metadata": {
      "needs_background": "light"
     },
     "output_type": "display_data"
    }
   ],
   "source": [
    "# using sklearn for confusion matrics\n",
    "cm = confusion_matrix(y_test, np.rint(test_predicted), labels=[0, 1])\n",
    "\n",
    "plt.figure(figsize=(6,6))\n",
    "sns.heatmap(cm, annot=True, fmt='g', vmin=0, cmap='Blues', cbar=False)\n",
    "plt.xticks(ticks=[0.5,1.5], labels = [\"Good\", \"Bad\"])\n",
    "plt.yticks(ticks=[0.5,1.5], labels = [\"Good\", \"Bad\"])\n",
    "plt.xlabel(\"Predicted\")\n",
    "plt.ylabel(\"Actual\")\n",
    "plt.title(\"Confusion Matrix\")\n",
    "plt.show()"
   ]
  },
  {
   "cell_type": "markdown",
   "id": "2b2d662f",
   "metadata": {},
   "source": [
    "## F1 Score"
   ]
  },
  {
   "cell_type": "code",
   "execution_count": 79,
   "id": "310153c1",
   "metadata": {},
   "outputs": [
    {
     "name": "stdout",
     "output_type": "stream",
     "text": [
      "F1-Score: 0.5276872964169381\n"
     ]
    }
   ],
   "source": [
    "#calcularing F1 Score\n",
    "true_positive = cm [0][0]\n",
    "false_positive = cm [1][0]\n",
    "true_negative = cm [1][1]\n",
    "false_negative = cm [0][1]\n",
    "\n",
    "total_positive = true_positive + false_positive\n",
    "\n",
    "precision = true_positive / (true_positive + false_positive)\n",
    "recall = true_positive / (true_positive + false_negative)\n",
    "\n",
    "F1_Score = 2 * (precision * recall) / (precision + recall)\n",
    "\n",
    "print('F1-Score:', F1_Score)"
   ]
  },
  {
   "cell_type": "markdown",
   "id": "221ad822",
   "metadata": {},
   "source": [
    "## Accuracy Matrix"
   ]
  },
  {
   "cell_type": "code",
   "execution_count": 80,
   "id": "c7348083",
   "metadata": {},
   "outputs": [
    {
     "data": {
      "image/png": "[encoded data removed]",
      "text/plain": [
       "<Figure size 432x288 with 1 Axes>"
      ]
     },
     "metadata": {
      "needs_background": "light"
     },
     "output_type": "display_data"
    }
   ],
   "source": [
    "\n",
    "plt.plot(Training_data['trainAccuracy'],label='Train Acc')\n",
    "plt.plot(Training_data['testAccurcay'],label=\"Test Acc\")\n",
    "plt.legend(bbox_to_anchor=(1.05, 1), loc=2, borderaxespad=0.)\n",
    "plt.title('Training vs Testing Accuracy')\n",
    "plt.show()"
   ]
  },
  {
   "cell_type": "markdown",
   "id": "f9ff3822",
   "metadata": {},
   "source": [
    "## Loss Matrix"
   ]
  },
  {
   "cell_type": "code",
   "execution_count": 81,
   "id": "505f21c1",
   "metadata": {},
   "outputs": [
    {
     "data": {
      "image/png": "[encoded data removed]",
      "text/plain": [
       "<Figure size 432x288 with 1 Axes>"
      ]
     },
     "metadata": {
      "needs_background": "light"
     },
     "output_type": "display_data"
    }
   ],
   "source": [
    "plt.plot(Training_data['trainLoss'],label='Train Loss, J')\n",
    "plt.plot(Training_data['testLoss'],label=\"Test Loss, J\")\n",
    "plt.legend(bbox_to_anchor=(1.05, 1), loc=2, borderaxespad=0.)\n",
    "plt.title('Training vs Testing Loss')\n",
    "plt.show()"
   ]
  },
  {
   "cell_type": "markdown",
   "id": "8a0d6868",
   "metadata": {},
   "source": [
    "## ReLU\n",
    "\n",
    "Rectified linear activation unit (ReLU)\n",
    "\n",
    "It's used as non-linear activation function which is used in deep neural network\n",
    "\n",
    "The main advantage of using the ReLU function over other activation functions is that it does not activate all the neurons at the same time.\n",
    "\n",
    "This function makes negative values as 0"
   ]
  },
  {
   "cell_type": "code",
   "execution_count": 82,
   "id": "e4b0742e",
   "metadata": {},
   "outputs": [],
   "source": [
    "#ReLU activation function\n",
    "def relu(x):\n",
    "    return max(0.0, x)\n"
   ]
  },
  {
   "cell_type": "markdown",
   "id": "9cbd9510",
   "metadata": {},
   "source": [
    "## Neural Network with ReLU Activation Function"
   ]
  },
  {
   "cell_type": "code",
   "execution_count": 83,
   "id": "b1b15e0a",
   "metadata": {},
   "outputs": [
    {
     "name": "stdout",
     "output_type": "stream",
     "text": [
      "J, Train loss:0.125000\n",
      "J, Test loss:0.125000\n",
      "Training accuracy: 45.283019\n",
      "Validation accuracy: 48.972603\n",
      "J, Train loss:0.189951\n",
      "J, Test loss:0.207697\n",
      "Training accuracy: 52.658662\n",
      "Validation accuracy: 47.945205\n",
      "J, Train loss:0.138247\n",
      "J, Test loss:0.179377\n",
      "Training accuracy: 64.751286\n",
      "Validation accuracy: 54.794521\n"
     ]
    }
   ],
   "source": [
    "\n",
    "\n",
    "# initilize weights\n",
    "weight = np.zeros(x_train.shape[1])\n",
    "bias = 0\n",
    "lossVal = 0\n",
    "\n",
    "# setting neural network hyperparameters\n",
    "epochs = 60\n",
    "learningRate = 0.10\n",
    "Training_data = {\"trainingLoss\":[],\"testingLoss\":[],\"trainingAccuracy\":[],\"testingAccurcay\":[]}\n",
    "\n",
    "#ReLU\n",
    "for epoch in range(epochs):\n",
    "    loss = 0\n",
    "    train_predicted = []\n",
    "    for i in range(x_train.shape[0]):\n",
    "        y_pred_temp = relu(sigmoid(np.dot(x_train[i],weight)+bias))        \n",
    "        loss += (y_train[i] - y_pred_temp)*(y_train[i] - y_pred_temp) #J\n",
    "        train_predicted.append(y_pred_temp)\n",
    "        \n",
    "    loss = loss/(2*x_train.shape[0])\n",
    "\n",
    "    loss_test = 0\n",
    "    test_predicted = []\n",
    "    for i in range(x_test.shape[0]):\n",
    "        y_pred_temp = relu(sigmoid(np.dot(x_test[i],weight)+bias))        \n",
    "        loss_test += (y_test[i] - y_pred_temp)*(y_test[i] - y_pred_temp) #J\n",
    "        test_predicted.append(y_pred_temp)        \n",
    "    \n",
    "    loss_test = loss_test/(2*x_test.shape[0])\n",
    "    trainAcc = accuracy(y_train,train_predicted)\n",
    "    testAcc = accuracy(y_test,test_predicted)\n",
    "    \n",
    "    Training_data[\"trainingLoss\"].append(loss)\n",
    "    Training_data[\"testingLoss\"].append(loss_test)\n",
    "    Training_data[\"trainingAccuracy\"].append(trainAcc)\n",
    "    Training_data[\"testingAccurcay\"].append(testAcc)\n",
    "    \n",
    "    \n",
    "    if epoch%20==0:\n",
    "        print(\"J, Train loss:%f\" %(loss))\n",
    "        print(\"J, Test loss:%f\" %(loss_test))\n",
    "        print(\"Training accuracy: %f\" %(trainAcc))\n",
    "        print(\"Validation accuracy: %f\" %(testAcc))\n",
    "    train_predicted = np.array(train_predicted)\n",
    "    \n",
    "    #Accumulate gradient with respect to bias and weights\n",
    "    grad_bias = 0\n",
    "    grad_w = np.zeros(len(weight))\n",
    "    for i in range(x_train.shape[0]):        \n",
    "        grad_bias += (train_predicted[i] - y_train[i])*(train_predicted[i])*(1-train_predicted[i]) #dJ/db\n",
    "        for j in range(len(weight)):\n",
    "            #dJ/dW_j\n",
    "            grad_w[j] += (train_predicted[i] - y_train[i])*(train_predicted[i])*(1-train_predicted[i])*(x_train[i][j])\n",
    "\n",
    "    #Update bias\n",
    "    bias = bias - grad_bias*learningRate/x_train.shape[0]    \n",
    "    \n",
    "    #Update weights    \n",
    "    for j in range(len(weight)):\n",
    "        weight[j] = weight[j] - grad_w[j]*learningRate/x_train.shape[0]\n"
   ]
  },
  {
   "cell_type": "markdown",
   "id": "9b352611",
   "metadata": {},
   "source": [
    "## Confusion Matrix"
   ]
  },
  {
   "cell_type": "code",
   "execution_count": 84,
   "id": "c1bf521f",
   "metadata": {},
   "outputs": [
    {
     "data": {
      "image/png": "[encoded data removed]",
      "text/plain": [
       "<Figure size 432x432 with 1 Axes>"
      ]
     },
     "metadata": {
      "needs_background": "light"
     },
     "output_type": "display_data"
    }
   ],
   "source": [
    "\n",
    "cm = confusion_matrix(y_test, np.rint(test_predicted), labels=[0, 1])\n",
    "\n",
    "plt.figure(figsize=(6,6))\n",
    "sns.heatmap(cm, annot=True, fmt='g', vmin=0, cmap='Blues', cbar=False)\n",
    "plt.xticks(ticks=[0.5,1.5], labels = [\"Good\", \"Bad\"])\n",
    "plt.yticks(ticks=[0.5,1.5], labels = [\"Good\", \"Bad\"])\n",
    "plt.xlabel(\"Predicted\")\n",
    "plt.ylabel(\"Actual\")\n",
    "plt.title(\"Confusion Matrix\")\n",
    "plt.show()"
   ]
  },
  {
   "cell_type": "markdown",
   "id": "8f301884",
   "metadata": {},
   "source": [
    "## Accuracy Matrix"
   ]
  },
  {
   "cell_type": "code",
   "execution_count": 85,
   "id": "878c4833",
   "metadata": {},
   "outputs": [
    {
     "data": {
      "image/png": "[encoded data removed]",
      "text/plain": [
       "<Figure size 432x288 with 1 Axes>"
      ]
     },
     "metadata": {
      "needs_background": "light"
     },
     "output_type": "display_data"
    }
   ],
   "source": [
    "\n",
    "plt.plot(Training_data['trainingAccuracy'],label='Train Acc')\n",
    "plt.plot(Training_data['testingAccurcay'],label=\"Test Acc\")\n",
    "plt.legend(bbox_to_anchor=(1.05, 1), loc=2, borderaxespad=0.)\n",
    "plt.title('Training vs Testing Accuracy')\n",
    "plt.show()"
   ]
  },
  {
   "cell_type": "markdown",
   "id": "e214b8f5",
   "metadata": {},
   "source": [
    "## Loss Matrix"
   ]
  },
  {
   "cell_type": "code",
   "execution_count": 86,
   "id": "8b5bddf1",
   "metadata": {},
   "outputs": [
    {
     "data": {
      "image/png": "[encoded data removed]",
      "text/plain": [
       "<Figure size 432x288 with 1 Axes>"
      ]
     },
     "metadata": {
      "needs_background": "light"
     },
     "output_type": "display_data"
    }
   ],
   "source": [
    "\n",
    "plt.plot(Training_data['trainingLoss'],label='Train Loss, J')\n",
    "plt.plot(Training_data['testingLoss'],label=\"Test Loss, J\")\n",
    "plt.legend(bbox_to_anchor=(1.05, 1), loc=2, borderaxespad=0.)\n",
    "plt.title('Training vs Testing Loss')\n",
    "plt.show()"
   ]
  },
  {
   "cell_type": "markdown",
   "id": "3da51e16",
   "metadata": {},
   "source": [
    "## F1 Score"
   ]
  },
  {
   "cell_type": "code",
   "execution_count": 87,
   "id": "62813f82",
   "metadata": {},
   "outputs": [
    {
     "name": "stdout",
     "output_type": "stream",
     "text": [
      "F1_Score: 0.5276872964169381\n"
     ]
    }
   ],
   "source": [
    "true_positive = cm [0][0]\n",
    "false_positive = cm [1][0]\n",
    "true_negative = cm [1][1]\n",
    "false_negative = cm [0][1]\n",
    "\n",
    "total_positive = true_positive + false_positive\n",
    "\n",
    "precision = true_positive / (true_positive + false_positive)\n",
    "recall = true_positive / (true_positive + false_negative)\n",
    "\n",
    "F1_Score = 2 * (precision * recall) / (precision + recall)\n",
    "\n",
    "print('F1_Score:', F1_Score)"
   ]
  },
  {
   "cell_type": "markdown",
   "id": "66165b93",
   "metadata": {},
   "source": [
    "# Regularization\n",
    "\n",
    "## Ridge (L2)\n",
    "\n",
    "Ridge Regression, which penalizes sum of squared coefficients (L2 penalty)\n",
    "\n",
    "It helps overcoming over-fitting problem in machine learning models"
   ]
  },
  {
   "cell_type": "code",
   "execution_count": 94,
   "id": "c1b7ba0b",
   "metadata": {},
   "outputs": [
    {
     "name": "stdout",
     "output_type": "stream",
     "text": [
      "Training:  (1166, 11)\n",
      "Test:  (1166,)\n",
      "J, Train loss:0.125000\n",
      "J, Test loss:0.125000\n",
      "Training accuracy: 45.283019\n",
      "Validation accuracy: 48.972603\n",
      "J, Train loss:0.188639\n",
      "J, Test loss:0.199266\n",
      "Training accuracy: 49.571184\n",
      "Validation accuracy: 46.232877\n",
      "J, Train loss:0.189951\n",
      "J, Test loss:0.207697\n",
      "Training accuracy: 52.658662\n",
      "Validation accuracy: 47.945205\n",
      "J, Train loss:0.131274\n",
      "J, Test loss:0.158252\n",
      "Training accuracy: 64.150943\n",
      "Validation accuracy: 56.849315\n",
      "J, Train loss:0.138247\n",
      "J, Test loss:0.179377\n",
      "Training accuracy: 64.751286\n",
      "Validation accuracy: 54.794521\n",
      "J, Train loss:0.142352\n",
      "J, Test loss:0.183530\n",
      "Training accuracy: 64.065180\n",
      "Validation accuracy: 55.136986\n"
     ]
    }
   ],
   "source": [
    "x_train,y_train,x_test,y_test = prepareData()\n",
    "\n",
    "# initilizing weights as per number of features\n",
    "weight = np.zeros(x_train.shape[1])\n",
    "bias = 0\n",
    "lossVal = 0\n",
    "\n",
    "#Converting df into array\n",
    "x_train = x_train.to_numpy()\n",
    "y_train = np.array(y_train)\n",
    "# y_train = y_train.to_numpy()\n",
    "x_test = x_test.to_numpy()\n",
    "y_test = np.array(y_test)\n",
    "# y_test = y_test.to_numpy()\n",
    "\n",
    "\n",
    "# Calculating accuracy matrics\n",
    "def accuracy(actual, predicted):\n",
    "    correct = 0\n",
    "    for i in range(len(actual)):\n",
    "        if (actual[i]>0.5) == (predicted[i]>0.5):\n",
    "            correct += 1\n",
    "    return correct / float(len(actual)) * 100.0\n",
    "\n",
    "\n",
    "# setting neural network hyperparameters\n",
    "epochs = 60\n",
    "learningRate = 0.10\n",
    "Training_data = {\"trainLoss\":[],\"testLoss\":[],\"trainAccuracy\":[],\"testAccurcay\":[]}\n",
    "\n",
    "#Predicting from train using Sigmoid Activation function\n",
    "#Calculating losss\n",
    "def predict_train():\n",
    "    loss = 0\n",
    "    train_predicted = []\n",
    "    for i in range(x_train.shape[0]):\n",
    "        y_pred_temp = sigmoid(np.dot(x_train[i],weight) + bias)        \n",
    "        loss += (y_train[i] - y_pred_temp)*(y_train[i] - y_pred_temp) #Squaring for L2 regularization\n",
    "        train_predicted.append(y_pred_temp)\n",
    "    loss = loss/(2*x_train.shape[0])\n",
    "    return train_predicted, loss\n",
    "\n",
    "#Predicting from test using Sigmoid Activation function\n",
    "#Calculating losss\n",
    "def predict_test():\n",
    "    loss_test = 0\n",
    "    test_predicted = []\n",
    "    for i in range(x_test.shape[0]):\n",
    "        y_pred_temp = sigmoid(np.dot(x_test[i],weight)+bias)        \n",
    "        loss_test += (y_test[i] - y_pred_temp)*(y_test[i] - y_pred_temp) #Squaring for L2 regularization\n",
    "        test_predicted.append(y_pred_temp) \n",
    "    return test_predicted, loss_test\n",
    "\n",
    "#Calculating and updating gradient bias and weight\n",
    "def update_bias(bias):\n",
    "    #Accumulating gradient with respect to bias and weights\n",
    "    grad_bias = 0\n",
    "    grad_w = np.zeros(len(weight))\n",
    "    for i in range(x_train.shape[0]):        \n",
    "        grad_bias += (train_predicted[i] - y_train[i])*(train_predicted[i])*(1-train_predicted[i]) #dJ/db\n",
    "        for j in range(len(weight)):\n",
    "            #dJ/dW_j\n",
    "            grad_w[j] += (train_predicted[i] - y_train[i])*(train_predicted[i])*(1-train_predicted[i])*(x_train[i][j])\n",
    "\n",
    "    #Updating bias\n",
    "    bias = bias - grad_bias*learningRate/x_train.shape[0]   \n",
    "    \n",
    "    return grad_w, bias\n",
    "\n",
    "#Updating weights\n",
    "def update_weight():\n",
    "    #Updating weights    \n",
    "    for j in range(len(weight)):\n",
    "        weight[j] = weight[j] - grad_w[j]*learningRate/x_train.shape[0]\n",
    "    \n",
    "    return weight\n",
    "\n",
    "\n",
    "for epoch in range(epochs):\n",
    "\n",
    "    train_predicted, loss = predict_train()\n",
    "    test_predicted, loss_test = predict_test()\n",
    "\n",
    "    loss_test = loss_test/(2*x_test.shape[0])\n",
    "    trainAcc = accuracy(y_train,train_predicted)\n",
    "    testAcc = accuracy(y_test,test_predicted)\n",
    "\n",
    "    Training_data[\"trainLoss\"].append(loss)\n",
    "    Training_data[\"testLoss\"].append(loss_test)\n",
    "    Training_data[\"trainAccuracy\"].append(trainAcc)\n",
    "    Training_data[\"testAccurcay\"].append(testAcc)\n",
    "\n",
    "    #printing matrics every 10 rounds\n",
    "    if epoch%10==0:\n",
    "        print(\"J, Train loss:%f\" %(loss))\n",
    "        print(\"J, Test loss:%f\" %(loss_test))\n",
    "        print(\"Training accuracy: %f\" %(trainAcc))\n",
    "        print(\"Validation accuracy: %f\" %(testAcc))\n",
    "\n",
    "    train_predicted = np.array(train_predicted)\n",
    "\n",
    "    grad_w, bias = update_bias(bias)\n",
    "\n",
    "    weight = update_weight()\n"
   ]
  },
  {
   "cell_type": "markdown",
   "id": "d99c4d3c",
   "metadata": {},
   "source": [
    "## Lasso (L1)\n",
    "\n",
    "Lasso regression is a regularization technique which is shrinks data values are shrunk towards a central point as the mean\n",
    "\n",
    "In Lasso it penalizes the sum of absolute values of the coefficients (L1 penalty)"
   ]
  },
  {
   "cell_type": "code",
   "execution_count": 95,
   "id": "d2cc8d6d",
   "metadata": {},
   "outputs": [
    {
     "name": "stdout",
     "output_type": "stream",
     "text": [
      "J, Train loss:0.250000\n",
      "J, Test loss:0.250000\n",
      "Training accuracy: 45.283019\n",
      "Validation accuracy: 48.972603\n",
      "J, Train loss:0.226415\n",
      "J, Test loss:0.244863\n",
      "Training accuracy: 54.716981\n",
      "Validation accuracy: 51.027397\n",
      "J, Train loss:0.226415\n",
      "J, Test loss:0.244863\n",
      "Training accuracy: 54.716981\n",
      "Validation accuracy: 51.027397\n",
      "J, Train loss:0.226415\n",
      "J, Test loss:0.244863\n",
      "Training accuracy: 54.716981\n",
      "Validation accuracy: 51.027397\n",
      "J, Train loss:0.226415\n",
      "J, Test loss:0.244863\n",
      "Training accuracy: 54.716981\n",
      "Validation accuracy: 51.027397\n",
      "J, Train loss:0.226415\n",
      "J, Test loss:0.244863\n",
      "Training accuracy: 54.716981\n",
      "Validation accuracy: 51.027397\n"
     ]
    }
   ],
   "source": [
    "\n",
    "# initilize weights\n",
    "weight = np.zeros(x_train.shape[1])\n",
    "bias = 0\n",
    "lossVal = 0\n",
    "\n",
    "\n",
    "# setting neural network hyperparameters\n",
    "epochs = 60\n",
    "learningRate = 0.10\n",
    "Training_data = {\"trainingLoss\":[],\"testingLoss\":[],\"trainingAccuracy\":[],\"testingAccurcay\":[]}\n",
    "\n",
    "\n",
    "def predict_train():\n",
    "    YP = []\n",
    "    loss = 0\n",
    "    for i in range(x_train.shape[0]):\n",
    "        y_pred_temp = sigmoid(np.dot(x_train[i],weight) + bias)        \n",
    "        loss += np.absolute(y_train[i] - y_pred_temp) #taking absolute for L1 regularization\n",
    "        YP.append(y_pred_temp)\n",
    "    loss = loss/(2*x_train.shape[0])\n",
    "    \n",
    "    return YP, loss\n",
    "\n",
    "def predict_test():\n",
    "    YP_test = []\n",
    "    loss_test = 0\n",
    "    for i in range(x_test.shape[0]):\n",
    "        y_pred_temp = sigmoid(np.dot(x_test[i],weight)+bias)        \n",
    "        loss_test += np.absolute(y_test[i] - y_pred_temp) #taking absolute for L1 regularization\n",
    "        YP_test.append(y_pred_temp) \n",
    "    return YP_test, loss_test\n",
    "\n",
    "# def train(epoch,bias):\n",
    "for epoch in range(epochs):\n",
    "\n",
    "    YP, loss = predict_train()\n",
    "    YP_test, loss_test = predict_test()\n",
    "\n",
    "    loss_test = loss_test/(2*x_test.shape[0])\n",
    "    trainAcc = accuracy(y_train,YP)\n",
    "    testAcc = accuracy(y_test,YP_test)\n",
    "\n",
    "    Training_data[\"trainingLoss\"].append(loss)\n",
    "    Training_data[\"testingLoss\"].append(loss_test)\n",
    "    Training_data[\"trainingAccuracy\"].append(trainAcc)\n",
    "    Training_data[\"testingAccurcay\"].append(testAcc)\n",
    "\n",
    "\n",
    "    if epoch%10==0:\n",
    "        print(\"J, Train loss:%f\" %(loss))\n",
    "        print(\"J, Test loss:%f\" %(loss_test))\n",
    "        print(\"Training accuracy: %f\" %(trainAcc))\n",
    "        print(\"Validation accuracy: %f\" %(testAcc))\n",
    "\n",
    "    YP = np.array(YP)\n",
    "\n",
    "    grad_w, bias = update_bias(bias)\n",
    "\n",
    "    weight = update_weight()\n"
   ]
  },
  {
   "cell_type": "markdown",
   "id": "3cea0634",
   "metadata": {},
   "source": [
    "## Conclusion\n",
    "\n",
    "In this notebook, I have solved a classification problem of Wine quality by implementing single neuron network with activation functions such as Sigmoid and ReLU\n",
    "\n",
    "We trained the model and then calculated loss, accuracy and F1-score matrix for the model and visualized training, testing accuracy and loss by graph\n",
    "\n",
    "we also implemented L1 and L2 regularization"
   ]
  }
 ],
 "metadata": {
  "kernelspec": {
   "display_name": "Python 3 (ipykernel)",
   "language": "python",
   "name": "python3"
  },
  "language_info": {
   "codemirror_mode": {
    "name": "ipython",
    "version": 3
   },
   "file_extension": ".py",
   "mimetype": "text/x-python",
   "name": "python",
   "nbconvert_exporter": "python",
   "pygments_lexer": "ipython3",
   "version": "3.9.7"
  }
 },
 "nbformat": 4,
 "nbformat_minor": 5
}
